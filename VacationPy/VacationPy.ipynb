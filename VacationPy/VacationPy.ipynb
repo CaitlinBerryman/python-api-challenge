{
 "cells": [
  {
   "cell_type": "code",
   "execution_count": 2,
   "metadata": {},
   "outputs": [],
   "source": [
    " # dependencies\n",
    "import matplotlib.pyplot as plt\n",
    "import pandas as pd\n",
    "import numpy as np\n",
    "import requests\n",
    "import gmaps\n",
    "import os\n",
    "from config import gkey"
   ]
  },
  {
   "cell_type": "code",
   "execution_count": 3,
   "metadata": {},
   "outputs": [
    {
     "data": {
      "text/html": [
       "<div>\n",
       "<style scoped>\n",
       "    .dataframe tbody tr th:only-of-type {\n",
       "        vertical-align: middle;\n",
       "    }\n",
       "\n",
       "    .dataframe tbody tr th {\n",
       "        vertical-align: top;\n",
       "    }\n",
       "\n",
       "    .dataframe thead th {\n",
       "        text-align: right;\n",
       "    }\n",
       "</style>\n",
       "<table border=\"1\" class=\"dataframe\">\n",
       "  <thead>\n",
       "    <tr style=\"text-align: right;\">\n",
       "      <th></th>\n",
       "      <th>City</th>\n",
       "      <th>Country</th>\n",
       "      <th>Latitude</th>\n",
       "      <th>Longitude</th>\n",
       "      <th>Temperature (C)</th>\n",
       "      <th>Cloudiness (%)</th>\n",
       "      <th>Humidity (%)</th>\n",
       "      <th>Wind speed (m/s)</th>\n",
       "      <th>Datetime</th>\n",
       "    </tr>\n",
       "  </thead>\n",
       "  <tbody>\n",
       "    <tr>\n",
       "      <th>0</th>\n",
       "      <td>Ushuaia</td>\n",
       "      <td>AR</td>\n",
       "      <td>-54.8000</td>\n",
       "      <td>-68.3000</td>\n",
       "      <td>5.81</td>\n",
       "      <td>40</td>\n",
       "      <td>52</td>\n",
       "      <td>16.46</td>\n",
       "      <td>1639905321</td>\n",
       "    </tr>\n",
       "    <tr>\n",
       "      <th>1</th>\n",
       "      <td>San Andrés</td>\n",
       "      <td>CO</td>\n",
       "      <td>12.5847</td>\n",
       "      <td>-81.7006</td>\n",
       "      <td>27.01</td>\n",
       "      <td>20</td>\n",
       "      <td>83</td>\n",
       "      <td>4.12</td>\n",
       "      <td>1639905609</td>\n",
       "    </tr>\n",
       "    <tr>\n",
       "      <th>2</th>\n",
       "      <td>Mataura</td>\n",
       "      <td>NZ</td>\n",
       "      <td>-46.1927</td>\n",
       "      <td>168.8643</td>\n",
       "      <td>20.27</td>\n",
       "      <td>79</td>\n",
       "      <td>52</td>\n",
       "      <td>3.85</td>\n",
       "      <td>1639905611</td>\n",
       "    </tr>\n",
       "    <tr>\n",
       "      <th>3</th>\n",
       "      <td>Jamestown</td>\n",
       "      <td>US</td>\n",
       "      <td>42.0970</td>\n",
       "      <td>-79.2353</td>\n",
       "      <td>-1.06</td>\n",
       "      <td>90</td>\n",
       "      <td>94</td>\n",
       "      <td>3.13</td>\n",
       "      <td>1639905613</td>\n",
       "    </tr>\n",
       "    <tr>\n",
       "      <th>4</th>\n",
       "      <td>Albany</td>\n",
       "      <td>US</td>\n",
       "      <td>42.6001</td>\n",
       "      <td>-73.9662</td>\n",
       "      <td>2.83</td>\n",
       "      <td>100</td>\n",
       "      <td>89</td>\n",
       "      <td>4.02</td>\n",
       "      <td>1639905353</td>\n",
       "    </tr>\n",
       "  </tbody>\n",
       "</table>\n",
       "</div>"
      ],
      "text/plain": [
       "         City Country  Latitude  Longitude  Temperature (C)  Cloudiness (%)  \\\n",
       "0     Ushuaia      AR  -54.8000   -68.3000             5.81              40   \n",
       "1  San Andrés      CO   12.5847   -81.7006            27.01              20   \n",
       "2     Mataura      NZ  -46.1927   168.8643            20.27              79   \n",
       "3   Jamestown      US   42.0970   -79.2353            -1.06              90   \n",
       "4      Albany      US   42.6001   -73.9662             2.83             100   \n",
       "\n",
       "   Humidity (%)  Wind speed (m/s)    Datetime  \n",
       "0            52             16.46  1639905321  \n",
       "1            83              4.12  1639905609  \n",
       "2            52              3.85  1639905611  \n",
       "3            94              3.13  1639905613  \n",
       "4            89              4.02  1639905353  "
      ]
     },
     "execution_count": 3,
     "metadata": {},
     "output_type": "execute_result"
    }
   ],
   "source": [
    "# import csv from first part\n",
    "cities_csv = os.path.join(\"..\", \"WeatherPy\", \"output\", \"cities.csv\")\n",
    "weather_df = pd.read_csv(cities_csv)\n",
    "weather_df.head()"
   ]
  },
  {
   "cell_type": "code",
   "execution_count": 4,
   "metadata": {},
   "outputs": [],
   "source": [
    "# configure gmaps\n",
    "gmaps.configure(api_key=gkey)"
   ]
  },
  {
   "cell_type": "code",
   "execution_count": null,
   "metadata": {},
   "outputs": [],
   "source": []
  }
 ],
 "metadata": {
  "interpreter": {
   "hash": "d4e24735c90db6cbd661e695a7c70f2d30eef3703b5d6ea3b78cf516f9929846"
  },
  "kernelspec": {
   "display_name": "Python 3.6.10 64-bit ('PythonData': conda)",
   "language": "python",
   "name": "python3"
  },
  "language_info": {
   "codemirror_mode": {
    "name": "ipython",
    "version": 3
   },
   "file_extension": ".py",
   "mimetype": "text/x-python",
   "name": "python",
   "nbconvert_exporter": "python",
   "pygments_lexer": "ipython3",
   "version": "3.6.10"
  },
  "orig_nbformat": 4
 },
 "nbformat": 4,
 "nbformat_minor": 2
}
